{
 "cells": [
  {
   "cell_type": "markdown",
   "metadata": {},
   "source": [
    "## Prep: getting the data"
   ]
  },
  {
   "cell_type": "code",
   "execution_count": 1,
   "metadata": {
    "collapsed": false
   },
   "outputs": [],
   "source": [
    "import requests"
   ]
  },
  {
   "cell_type": "code",
   "execution_count": 2,
   "metadata": {
    "collapsed": false
   },
   "outputs": [],
   "source": [
    "r = requests.get(\"https://raw.githubusercontent.com/jesstess/oreilly-intermediate-python/master/Unit2/wordplay/sowpods.txt\")"
   ]
  },
  {
   "cell_type": "code",
   "execution_count": 3,
   "metadata": {
    "collapsed": false
   },
   "outputs": [],
   "source": [
    "wordlist = [word.lower().strip() for word in r.text.strip().split(\"\\n\")]"
   ]
  },
  {
   "cell_type": "code",
   "execution_count": 4,
   "metadata": {
    "collapsed": false
   },
   "outputs": [],
   "source": [
    "assert(wordlist[0] == \"aa\")\n",
    "assert(wordlist[-1] == \"zzzs\")"
   ]
  },
  {
   "cell_type": "markdown",
   "metadata": {},
   "source": [
    "## Beginner implementation (not Pythonic)"
   ]
  },
  {
   "cell_type": "code",
   "execution_count": 5,
   "metadata": {
    "collapsed": false
   },
   "outputs": [
    {
     "name": "stdout",
     "output_type": "stream",
     "text": [
      "rotavator\n"
     ]
    }
   ],
   "source": [
    "longest = \"\"\n",
    "for word in wordlist:\n",
    "    is_palindrome = True\n",
    "    for index in range(len(word)):\n",
    "        if word[index] != word[-(index + 1)]:\n",
    "            is_palindrome = False\n",
    "    if is_palindrome and len(word) > len(longest):\n",
    "        longest = word\n",
    "\n",
    "print(longest)"
   ]
  },
  {
   "cell_type": "markdown",
   "metadata": {},
   "source": [
    "## Making it better (almost Pythonic)"
   ]
  },
  {
   "cell_type": "code",
   "execution_count": 6,
   "metadata": {
    "collapsed": false
   },
   "outputs": [
    {
     "name": "stdout",
     "output_type": "stream",
     "text": [
      "rotavator\n"
     ]
    }
   ],
   "source": [
    "longest = \"\"\n",
    "for word in wordlist:\n",
    "    if list(word) == list(reversed(word)) and len(word) > len(longest):\n",
    "        longest = word\n",
    "\n",
    "print(longest)"
   ]
  },
  {
   "cell_type": "markdown",
   "metadata": {},
   "source": [
    "## There is even a better way (Pythonic?)"
   ]
  },
  {
   "cell_type": "markdown",
   "metadata": {},
   "source": [
    "Using a negative stride. Although strides can be confusing, I think this use case (with ::) is pretty elegant:"
   ]
  },
  {
   "cell_type": "code",
   "execution_count": 7,
   "metadata": {
    "collapsed": false
   },
   "outputs": [
    {
     "name": "stdout",
     "output_type": "stream",
     "text": [
      "rotavator\n"
     ]
    }
   ],
   "source": [
    "longest = \"\"\n",
    "for word in wordlist:\n",
    "    if word == word[::-1] and len(word) > len(longest):\n",
    "        longest = word\n",
    "\n",
    "print(longest)"
   ]
  },
  {
   "cell_type": "markdown",
   "metadata": {},
   "source": [
    "## What about making it a one-liner?"
   ]
  },
  {
   "cell_type": "markdown",
   "metadata": {},
   "source": [
    "Here the video chapter ends, but what about list comprehensions? You can also use the max() builtin to get the longest palindrome using its optinal key argument. (I find this a very useful feature of sort() as well, see http://bobbelderbos.com/2016/06/python-tips/ - tip # 2)"
   ]
  },
  {
   "cell_type": "markdown",
   "metadata": {},
   "source": [
    "Documentation: https://docs.python.org/3/library/functions.html#max\n",
    "\n",
    "There are two optional keyword-only arguments. The key argument specifies a one-argument ordering function like that used for list.sort(). The default argument specifies an object to return if the provided iterable is empty. If the iterable is empty and default is not provided, a ValueError is raised."
   ]
  },
  {
   "cell_type": "code",
   "execution_count": 8,
   "metadata": {
    "collapsed": false
   },
   "outputs": [
    {
     "data": {
      "text/plain": [
       "'rotavator'"
      ]
     },
     "execution_count": 8,
     "metadata": {},
     "output_type": "execute_result"
    }
   ],
   "source": [
    "max([word for word in wordlist if word == word[::-1]], key=len)"
   ]
  },
  {
   "cell_type": "markdown",
   "metadata": {},
   "source": [
    "But this is A. not the most readable, B. not re-usable. So I would wrap it into two methods:"
   ]
  },
  {
   "cell_type": "code",
   "execution_count": 10,
   "metadata": {
    "collapsed": false
   },
   "outputs": [
    {
     "data": {
      "text/plain": [
       "'rotavator'"
      ]
     },
     "execution_count": 10,
     "metadata": {},
     "output_type": "execute_result"
    }
   ],
   "source": [
    "def is_palindrome(word):\n",
    "    return word == word[::-1]\n",
    "\n",
    "def get_longest_palindrome(wordlist):\n",
    "    return max([word for word in wordlist if is_palindrome(word)], key=len)\n",
    "\n",
    "get_longest_palindrome(wordlist)"
   ]
  },
  {
   "cell_type": "markdown",
   "metadata": {},
   "source": [
    "So we went from 8 to 4 lines of code. We A. made much better use of Python's language features which can be considered \"more Pythonic\", and B. we wrapped it in functions which makes it easier to re-use, read and modify this code."
   ]
  }
 ],
 "metadata": {
  "kernelspec": {
   "display_name": "Python 3",
   "language": "python",
   "name": "python3"
  },
  "language_info": {
   "codemirror_mode": {
    "name": "ipython",
    "version": 3
   },
   "file_extension": ".py",
   "mimetype": "text/x-python",
   "name": "python",
   "nbconvert_exporter": "python",
   "pygments_lexer": "ipython3",
   "version": "3.5.1"
  }
 },
 "nbformat": 4,
 "nbformat_minor": 0
}
